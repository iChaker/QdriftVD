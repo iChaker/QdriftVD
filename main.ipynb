{
 "cells": [
  {
   "cell_type": "code",
   "execution_count": 1,
   "metadata": {},
   "outputs": [],
   "source": [
    "import numpy as np\n",
    "import scipy.linalg as la\n",
    "from scipy.linalg import expm\n",
    "from concurrent.futures import ProcessPoolExecutor,ThreadPoolExecutor, as_completed\n",
    "import multiprocessing\n",
    "from Qdrift import evolve_Qdrift_trajectories\n"
   ]
  },
  {
   "cell_type": "code",
   "execution_count": 2,
   "metadata": {},
   "outputs": [],
   "source": [
    "#1D Hamiltonian definitions\n",
    "X = np.array([[0.,1.],[1.,0.]],dtype=complex)\n",
    "Y = np.array([[0.,-1.j],[1.j,0.]],dtype=complex)\n",
    "Z = np.array([[1.,0.],[0.,-1.]],dtype=complex)\n",
    "I = np.array([[1.,0.],[0.,1.]],dtype=complex)\n",
    "\n",
    "\n",
    "def define1D_Hterm(nsites,site,pauli,twosites=False):\n",
    "    #calculates matrix of a single Hamiltonian term with spectral norm=1\n",
    "    #nsites: number of spin 1/2 sites\n",
    "    #site: site index of the term Hi\n",
    "    #pauli: can be X Y Z for site i\n",
    "    #twosites: False=> site i, True=> site i and i+1 \n",
    "    op_list = [I] * nsites\n",
    "    if not twosites:\n",
    "        op_list[site]= pauli\n",
    "    else:\n",
    "        op_list[site]= pauli\n",
    "        op_list[(site+1)%nsites] = pauli\n",
    "\n",
    "    result = op_list[0]\n",
    "    for op in op_list[1:]:\n",
    "        result = np.kron(result, op)\n",
    "    return result\n",
    "\n",
    "def define1D_Hamiltonian(nsites,terms,coefficients,d=2):\n",
    "    #dictionary containing all hamiltonian information and initial state\n",
    "    Hdict=dict()\n",
    "    Hdict[\"nsites\"]=nsites\n",
    "    Hdict[\"local_dim\"]=d\n",
    "    Hdict[\"hilbert_dim\"]=d**nsites\n",
    "    Hdict[\"terms\"]=terms\n",
    "    Hdict[\"coefficients\"]=np.array(coefficients)\n",
    "    Hdict[\"lambda\"]=sum(coefficients)\n",
    "    Hdict[\"probabilities\"]=np.abs(Hdict[\"coefficients\"]/Hdict[\"lambda\"])\n",
    "    Hdict[\"weighted_terms\"]=[hi*Hi for hi,Hi in zip(coefficients,terms)]\n",
    "    Hdict[\"Hamiltonian\"]=sum(Hdict[\"weighted_terms\"])\n",
    "    \n",
    "    # initial updownupdown state\n",
    "    assert d==2 # if later we want to do qtrits ?\n",
    "    binary_str = ''.join(['0' if i % 2 == 0 else '1' for i in range(nsites)])\n",
    "    state_index = int(binary_str, 2)\n",
    "    state_vector = np.zeros(2**nsites, dtype=complex)\n",
    "    state_vector[state_index] = 1\n",
    "    Hdict[\"initial_state\"]=state_vector\n",
    "    return Hdict\n",
    "\n",
    "def Ising1D_Hamiltonian(nsites,J=1,h=1,periodic=False):\n",
    "\n",
    "    if periodic: \n",
    "        p=0 \n",
    "    else: \n",
    "        p=1\n",
    "\n",
    "    Jterms= [define1D_Hterm(nsites,i,Z,twosites=True) for i in range(nsites-p)]\n",
    "    hterms= [define1D_Hterm(nsites,i,X) for i in range(nsites)]\n",
    "    Jcoefs= [-J]*len(Jterms)\n",
    "    hcoefs= [-h]*len(hterms)\n",
    "\n",
    "    return define1D_Hamiltonian(nsites,Jterms+hterms,Jcoefs+hcoefs)\n",
    "\n"
   ]
  },
  {
   "cell_type": "code",
   "execution_count": 3,
   "metadata": {},
   "outputs": [],
   "source": [
    "# Time evolution\n",
    "\n",
    "\n",
    "#Exact evolution\n",
    "def evolve_exact(Hdict,total_time,initial_state=None):\n",
    "    if initial_state is None:\n",
    "        initial_state=Hdict[\"initial_state\"]\n",
    "    H=Hdict[\"Hamiltonian\"]\n",
    "\n",
    "    return la.expm(-1.j*total_time*H)@initial_state\n",
    "\n",
    "#Trotter evolution\n",
    "def evolve_Trotter(Hdict,total_time,nsteps,initial_state=None):\n",
    "    if initial_state is None:\n",
    "        initial_state=Hdict[\"initial_state\"]\n",
    "    \n",
    "    dt=total_time/nsteps\n",
    "    evolved_state=initial_state.copy()\n",
    "    gates=[]\n",
    "    for weighted_Hterm in Hdict[\"weighted_terms\"]:\n",
    "        gates.append(expm(-1j * dt * weighted_Hterm))\n",
    "    \n",
    "    for _ in range(nsteps):\n",
    "        for gate in gates:\n",
    "            evolved_state= gate @ evolved_state\n",
    "\n",
    "    return evolved_state\n",
    "\n",
    "#Qdrift evolution\n",
    "# in Qdrift.py for ProcessPoolExecutor\n"
   ]
  },
  {
   "cell_type": "code",
   "execution_count": 4,
   "metadata": {},
   "outputs": [],
   "source": [
    "# Compute multiple evolutions\n",
    "\n",
    "def compute_Qdrift_evolutions(Hdict,total_time_list,nsamples_list,ntrajs,initial_state=None):\n",
    "    # total times list x nsamples list x trajectories x 2**N\n",
    "    qstates=np.zeros((len(total_time_list),len(nsamples_list),ntrajs,Hdict[\"hilbert_dim\"]),dtype=complex)\n",
    "    with ProcessPoolExecutor(max_workers=multiprocessing.cpu_count()) as executor:\n",
    "        futures = []\n",
    "        for total_time_idx, total_time in enumerate(total_time_list):\n",
    "            for nsamples_idx, nsamples in enumerate(nsamples_list):\n",
    "                #qstates[total_time_idx,nsamples_idx]=evolve_Qdrift_trajectories(Hdict,total_time,nsamples,ntrajs,initial_state)\n",
    "                futures.append(executor.submit(evolve_Qdrift_trajectories,Hdict,total_time,nsamples,ntrajs,initial_state,(total_time_idx,nsamples_idx)))\n",
    "\n",
    "            for future in as_completed(futures):\n",
    "                evolved_trajs,idx=future.result()\n",
    "                qstates[idx[0],idx[1]]=evolved_trajs\n",
    "    return qstates\n"
   ]
  },
  {
   "cell_type": "code",
   "execution_count": 5,
   "metadata": {},
   "outputs": [
    {
     "ename": "NameError",
     "evalue": "name 'la' is not defined",
     "output_type": "error",
     "traceback": [
      "\u001b[0;31m---------------------------------------------------------------------------\u001b[0m",
      "\u001b[0;31m_RemoteTraceback\u001b[0m                          Traceback (most recent call last)",
      "\u001b[0;31m_RemoteTraceback\u001b[0m: \n\"\"\"\nTraceback (most recent call last):\n  File \"/Library/Frameworks/Python.framework/Versions/3.12/lib/python3.12/concurrent/futures/process.py\", line 263, in _process_worker\n    r = call_item.fn(*call_item.args, **call_item.kwargs)\n        ^^^^^^^^^^^^^^^^^^^^^^^^^^^^^^^^^^^^^^^^^^^^^^^^^\n  File \"/Users/iyadhchaker/Desktop/1Dpoc/Qdrift.py\", line 27, in evolve_Qdrift_trajectories\n    evolved_trajs[traj]=evolve_Qdrift(Hdict,total_time,nsamples,traj*nsamples*total_time,initial_state)\n                        ^^^^^^^^^^^^^^^^^^^^^^^^^^^^^^^^^^^^^^^^^^^^^^^^^^^^^^^^^^^^^^^^^^^^^^^^^^^^^^^\n  File \"/Users/iyadhchaker/Desktop/1Dpoc/Qdrift.py\", line 20, in evolve_Qdrift\n    evolved_state=la.expm(-1.j*dt*Hterms[sampled_terms[i]])@evolved_state\n                  ^^\nNameError: name 'la' is not defined\n\"\"\"",
      "\nThe above exception was the direct cause of the following exception:\n",
      "\u001b[0;31mNameError\u001b[0m                                 Traceback (most recent call last)",
      "Cell \u001b[0;32mIn[5], line 3\u001b[0m\n\u001b[1;32m      1\u001b[0m ising1D\u001b[38;5;241m=\u001b[39mIsing1D_Hamiltonian(\u001b[38;5;241m3\u001b[39m)\n\u001b[0;32m----> 3\u001b[0m qstates\u001b[38;5;241m=\u001b[39m\u001b[43mcompute_Qdrift_evolutions\u001b[49m\u001b[43m(\u001b[49m\u001b[43mising1D\u001b[49m\u001b[43m,\u001b[49m\u001b[43m[\u001b[49m\u001b[38;5;241;43m1\u001b[39;49m\u001b[43m,\u001b[49m\u001b[38;5;241;43m2\u001b[39;49m\u001b[43m,\u001b[49m\u001b[38;5;241;43m3\u001b[39;49m\u001b[43m]\u001b[49m\u001b[43m,\u001b[49m\u001b[43m[\u001b[49m\u001b[38;5;241;43m100\u001b[39;49m\u001b[43m,\u001b[49m\u001b[38;5;241;43m200\u001b[39;49m\u001b[43m]\u001b[49m\u001b[43m,\u001b[49m\u001b[38;5;241;43m10\u001b[39;49m\u001b[43m)\u001b[49m\n",
      "Cell \u001b[0;32mIn[4], line 14\u001b[0m, in \u001b[0;36mcompute_Qdrift_evolutions\u001b[0;34m(Hdict, total_time_list, nsamples_list, ntrajs, initial_state)\u001b[0m\n\u001b[1;32m     11\u001b[0m             futures\u001b[38;5;241m.\u001b[39mappend(executor\u001b[38;5;241m.\u001b[39msubmit(evolve_Qdrift_trajectories,Hdict,total_time,nsamples,ntrajs,initial_state,(total_time_idx,nsamples_idx)))\n\u001b[1;32m     13\u001b[0m         \u001b[38;5;28;01mfor\u001b[39;00m future \u001b[38;5;129;01min\u001b[39;00m as_completed(futures):\n\u001b[0;32m---> 14\u001b[0m             \u001b[43mfuture\u001b[49m\u001b[38;5;241;43m.\u001b[39;49m\u001b[43mresult\u001b[49m\u001b[43m(\u001b[49m\u001b[43m)\u001b[49m\n\u001b[1;32m     15\u001b[0m             qstates[idx[\u001b[38;5;241m0\u001b[39m],idx[\u001b[38;5;241m1\u001b[39m]]\u001b[38;5;241m=\u001b[39mevolved_trajs\n\u001b[1;32m     16\u001b[0m \u001b[38;5;28;01mreturn\u001b[39;00m qstates\n",
      "File \u001b[0;32m/Library/Frameworks/Python.framework/Versions/3.12/lib/python3.12/concurrent/futures/_base.py:449\u001b[0m, in \u001b[0;36mFuture.result\u001b[0;34m(self, timeout)\u001b[0m\n\u001b[1;32m    447\u001b[0m     \u001b[38;5;28;01mraise\u001b[39;00m CancelledError()\n\u001b[1;32m    448\u001b[0m \u001b[38;5;28;01melif\u001b[39;00m \u001b[38;5;28mself\u001b[39m\u001b[38;5;241m.\u001b[39m_state \u001b[38;5;241m==\u001b[39m FINISHED:\n\u001b[0;32m--> 449\u001b[0m     \u001b[38;5;28;01mreturn\u001b[39;00m \u001b[38;5;28;43mself\u001b[39;49m\u001b[38;5;241;43m.\u001b[39;49m\u001b[43m__get_result\u001b[49m\u001b[43m(\u001b[49m\u001b[43m)\u001b[49m\n\u001b[1;32m    451\u001b[0m \u001b[38;5;28mself\u001b[39m\u001b[38;5;241m.\u001b[39m_condition\u001b[38;5;241m.\u001b[39mwait(timeout)\n\u001b[1;32m    453\u001b[0m \u001b[38;5;28;01mif\u001b[39;00m \u001b[38;5;28mself\u001b[39m\u001b[38;5;241m.\u001b[39m_state \u001b[38;5;129;01min\u001b[39;00m [CANCELLED, CANCELLED_AND_NOTIFIED]:\n",
      "File \u001b[0;32m/Library/Frameworks/Python.framework/Versions/3.12/lib/python3.12/concurrent/futures/_base.py:401\u001b[0m, in \u001b[0;36mFuture.__get_result\u001b[0;34m(self)\u001b[0m\n\u001b[1;32m    399\u001b[0m \u001b[38;5;28;01mif\u001b[39;00m \u001b[38;5;28mself\u001b[39m\u001b[38;5;241m.\u001b[39m_exception:\n\u001b[1;32m    400\u001b[0m     \u001b[38;5;28;01mtry\u001b[39;00m:\n\u001b[0;32m--> 401\u001b[0m         \u001b[38;5;28;01mraise\u001b[39;00m \u001b[38;5;28mself\u001b[39m\u001b[38;5;241m.\u001b[39m_exception\n\u001b[1;32m    402\u001b[0m     \u001b[38;5;28;01mfinally\u001b[39;00m:\n\u001b[1;32m    403\u001b[0m         \u001b[38;5;66;03m# Break a reference cycle with the exception in self._exception\u001b[39;00m\n\u001b[1;32m    404\u001b[0m         \u001b[38;5;28mself\u001b[39m \u001b[38;5;241m=\u001b[39m \u001b[38;5;28;01mNone\u001b[39;00m\n",
      "\u001b[0;31mNameError\u001b[0m: name 'la' is not defined"
     ]
    }
   ],
   "source": [
    "ising1D=Ising1D_Hamiltonian(3)\n",
    "\n",
    "qstates=compute_Qdrift_evolutions(ising1D,[1,2,3],[100,200],10)"
   ]
  },
  {
   "cell_type": "code",
   "execution_count": 30,
   "metadata": {},
   "outputs": [
    {
     "data": {
      "text/plain": [
       "(3, 2, 10, 8)"
      ]
     },
     "execution_count": 30,
     "metadata": {},
     "output_type": "execute_result"
    }
   ],
   "source": [
    "qstates.shape"
   ]
  }
 ],
 "metadata": {
  "kernelspec": {
   "display_name": "Python 3",
   "language": "python",
   "name": "python3"
  },
  "language_info": {
   "codemirror_mode": {
    "name": "ipython",
    "version": 3
   },
   "file_extension": ".py",
   "mimetype": "text/x-python",
   "name": "python",
   "nbconvert_exporter": "python",
   "pygments_lexer": "ipython3",
   "version": "3.12.6"
  }
 },
 "nbformat": 4,
 "nbformat_minor": 2
}
